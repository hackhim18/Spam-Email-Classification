{
  "nbformat": 4,
  "nbformat_minor": 0,
  "metadata": {
    "colab": {
      "name": "LAB4-29/07.ipynb",
      "provenance": [],
      "collapsed_sections": []
    },
    "kernelspec": {
      "name": "python3",
      "display_name": "Python 3"
    },
    "language_info": {
      "name": "python"
    }
  },
  "cells": [
    {
      "cell_type": "code",
      "metadata": {
        "id": "kSlx1XaanLs6"
      },
      "source": [
        "import pandas as pd"
      ],
      "execution_count": null,
      "outputs": []
    },
    {
      "cell_type": "code",
      "metadata": {
        "colab": {
          "resources": {
            "http://localhost:8080/nbextensions/google.colab/files.js": {
              "data": "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",
              "ok": true,
              "headers": [
                [
                  "content-type",
                  "application/javascript"
                ]
              ],
              "status": 200,
              "status_text": "OK"
            }
          },
          "base_uri": "https://localhost:8080/",
          "height": 74
        },
        "id": "2Sm6MxCotgzC",
        "outputId": "5d81c6c9-180d-427f-9f9c-ce32b560a049"
      },
      "source": [
        "#1. Upload dataset to Google Colab\n",
        "import pandas as pd\n",
        "from google.colab import files\n",
        "\n",
        "uploaded = files.upload()"
      ],
      "execution_count": null,
      "outputs": [
        {
          "output_type": "display_data",
          "data": {
            "text/html": [
              "\n",
              "     <input type=\"file\" id=\"files-cd257b12-933a-4000-8570-c5f256539ee8\" name=\"files[]\" multiple disabled\n",
              "        style=\"border:none\" />\n",
              "     <output id=\"result-cd257b12-933a-4000-8570-c5f256539ee8\">\n",
              "      Upload widget is only available when the cell has been executed in the\n",
              "      current browser session. Please rerun this cell to enable.\n",
              "      </output>\n",
              "      <script src=\"/nbextensions/google.colab/files.js\"></script> "
            ],
            "text/plain": [
              "<IPython.core.display.HTML object>"
            ]
          },
          "metadata": {
            "tags": []
          }
        },
        {
          "output_type": "stream",
          "text": [
            "Saving atlcrime.csv to atlcrime.csv\n"
          ],
          "name": "stdout"
        }
      ]
    },
    {
      "cell_type": "code",
      "metadata": {
        "colab": {
          "base_uri": "https://localhost:8080/"
        },
        "id": "eZ2HoxbovVT9",
        "outputId": "427f0e16-3dd3-4429-ffb8-94e2c331eb65"
      },
      "source": [
        "for fn in uploaded.keys():\n",
        "  print('User uploaded file \"{name}\" with length {length} bytes'.format(\n",
        "      name=fn, length=len(uploaded[fn])))"
      ],
      "execution_count": null,
      "outputs": [
        {
          "output_type": "stream",
          "text": [
            "User uploaded file \"atlcrime.csv\" with length 28219939 bytes\n"
          ],
          "name": "stdout"
        }
      ]
    },
    {
      "cell_type": "code",
      "metadata": {
        "colab": {
          "base_uri": "https://localhost:8080/",
          "height": 461
        },
        "id": "jlrv0lHGv7ku",
        "outputId": "3df8a769-6bab-443b-cf8c-cb24512667b4"
      },
      "source": [
        "#2. Decode the data set using UTF-8 encoding\n",
        "#3. Copy the data set into Panda Frame\n",
        "import pandas as pd\n",
        "import io\n",
        "\n",
        "df = pd.read_csv(io.StringIO(uploaded['atlcrime.csv'].decode('utf-8')))\n",
        "df"
      ],
      "execution_count": null,
      "outputs": [
        {
          "output_type": "stream",
          "text": [
            "/usr/local/lib/python3.7/dist-packages/IPython/core/interactiveshell.py:2718: DtypeWarning: Columns (5) have mixed types.Specify dtype option on import or set low_memory=False.\n",
            "  interactivity=interactivity, compiler=compiler, result=result)\n"
          ],
          "name": "stderr"
        },
        {
          "output_type": "execute_result",
          "data": {
            "text/html": [
              "<div>\n",
              "<style scoped>\n",
              "    .dataframe tbody tr th:only-of-type {\n",
              "        vertical-align: middle;\n",
              "    }\n",
              "\n",
              "    .dataframe tbody tr th {\n",
              "        vertical-align: top;\n",
              "    }\n",
              "\n",
              "    .dataframe thead th {\n",
              "        text-align: right;\n",
              "    }\n",
              "</style>\n",
              "<table border=\"1\" class=\"dataframe\">\n",
              "  <thead>\n",
              "    <tr style=\"text-align: right;\">\n",
              "      <th></th>\n",
              "      <th>Unnamed: 0</th>\n",
              "      <th>crime</th>\n",
              "      <th>number</th>\n",
              "      <th>date</th>\n",
              "      <th>location</th>\n",
              "      <th>beat</th>\n",
              "      <th>neighborhood</th>\n",
              "      <th>npu</th>\n",
              "      <th>lat</th>\n",
              "      <th>long</th>\n",
              "    </tr>\n",
              "  </thead>\n",
              "  <tbody>\n",
              "    <tr>\n",
              "      <th>0</th>\n",
              "      <td>0</td>\n",
              "      <td>LARCENY-NON VEHICLE</td>\n",
              "      <td>103040029</td>\n",
              "      <td>10/31/2010</td>\n",
              "      <td>610 SPRING ST NW</td>\n",
              "      <td>509</td>\n",
              "      <td>Downtown</td>\n",
              "      <td>M</td>\n",
              "      <td>33.77101</td>\n",
              "      <td>-84.38895</td>\n",
              "    </tr>\n",
              "    <tr>\n",
              "      <th>1</th>\n",
              "      <td>1</td>\n",
              "      <td>AUTO THEFT</td>\n",
              "      <td>103040061</td>\n",
              "      <td>10/31/2010</td>\n",
              "      <td>850 OAK ST SW</td>\n",
              "      <td>401</td>\n",
              "      <td>West End</td>\n",
              "      <td>T</td>\n",
              "      <td>33.74057</td>\n",
              "      <td>-84.41680</td>\n",
              "    </tr>\n",
              "    <tr>\n",
              "      <th>2</th>\n",
              "      <td>2</td>\n",
              "      <td>LARCENY-FROM VEHICLE</td>\n",
              "      <td>103040169</td>\n",
              "      <td>10/31/2010</td>\n",
              "      <td>1344 METROPOLITAN PKWY SW</td>\n",
              "      <td>301</td>\n",
              "      <td>Capitol View Manor</td>\n",
              "      <td>X</td>\n",
              "      <td>33.71803</td>\n",
              "      <td>-84.40774</td>\n",
              "    </tr>\n",
              "    <tr>\n",
              "      <th>3</th>\n",
              "      <td>3</td>\n",
              "      <td>AUTO THEFT</td>\n",
              "      <td>103040174</td>\n",
              "      <td>10/31/2010</td>\n",
              "      <td>1752 PRYOR RD SW</td>\n",
              "      <td>307</td>\n",
              "      <td>Betmar LaVilla</td>\n",
              "      <td>Y</td>\n",
              "      <td>33.70731</td>\n",
              "      <td>-84.39674</td>\n",
              "    </tr>\n",
              "    <tr>\n",
              "      <th>4</th>\n",
              "      <td>4</td>\n",
              "      <td>LARCENY-NON VEHICLE</td>\n",
              "      <td>103040301</td>\n",
              "      <td>10/31/2010</td>\n",
              "      <td>JOHN WESLEY DOBBS AVE NE / CORLEY ST NE</td>\n",
              "      <td>604</td>\n",
              "      <td>Old Fourth Ward</td>\n",
              "      <td>M</td>\n",
              "      <td>33.75947</td>\n",
              "      <td>-84.36626</td>\n",
              "    </tr>\n",
              "    <tr>\n",
              "      <th>...</th>\n",
              "      <td>...</td>\n",
              "      <td>...</td>\n",
              "      <td>...</td>\n",
              "      <td>...</td>\n",
              "      <td>...</td>\n",
              "      <td>...</td>\n",
              "      <td>...</td>\n",
              "      <td>...</td>\n",
              "      <td>...</td>\n",
              "      <td>...</td>\n",
              "    </tr>\n",
              "    <tr>\n",
              "      <th>270683</th>\n",
              "      <td>270683</td>\n",
              "      <td>BURGLARY-RESIDENCE</td>\n",
              "      <td>92442142</td>\n",
              "      <td>09/01/2009</td>\n",
              "      <td>1226 PORTLAND AVE SE</td>\n",
              "      <td>612</td>\n",
              "      <td>East Atlanta</td>\n",
              "      <td>W</td>\n",
              "      <td>33.73927</td>\n",
              "      <td>-84.34741</td>\n",
              "    </tr>\n",
              "    <tr>\n",
              "      <th>270684</th>\n",
              "      <td>270684</td>\n",
              "      <td>LARCENY-FROM VEHICLE</td>\n",
              "      <td>92442164</td>\n",
              "      <td>09/01/2009</td>\n",
              "      <td>317 PICKFAIR WAY SW</td>\n",
              "      <td>307</td>\n",
              "      <td>Lakewood Heights</td>\n",
              "      <td>Y</td>\n",
              "      <td>33.70436</td>\n",
              "      <td>-84.40013</td>\n",
              "    </tr>\n",
              "    <tr>\n",
              "      <th>270685</th>\n",
              "      <td>270685</td>\n",
              "      <td>LARCENY-NON VEHICLE</td>\n",
              "      <td>92448045</td>\n",
              "      <td>09/01/2009</td>\n",
              "      <td>6234 SPINE RD @ATRIUM</td>\n",
              "      <td>50</td>\n",
              "      <td>NaN</td>\n",
              "      <td>NaN</td>\n",
              "      <td>33.64068</td>\n",
              "      <td>-84.44204</td>\n",
              "    </tr>\n",
              "    <tr>\n",
              "      <th>270686</th>\n",
              "      <td>270686</td>\n",
              "      <td>LARCENY-NON VEHICLE</td>\n",
              "      <td>92440866</td>\n",
              "      <td>09/01/2009</td>\n",
              "      <td>30 WARREN ST</td>\n",
              "      <td>610</td>\n",
              "      <td>Kirkwood</td>\n",
              "      <td>O</td>\n",
              "      <td>33.75374</td>\n",
              "      <td>-84.32600</td>\n",
              "    </tr>\n",
              "    <tr>\n",
              "      <th>270687</th>\n",
              "      <td>270687</td>\n",
              "      <td>HOMICIDE</td>\n",
              "      <td>92440372058</td>\n",
              "      <td>09/01/2009</td>\n",
              "      <td>2860 MARTIN L KING JR DR SW</td>\n",
              "      <td>405</td>\n",
              "      <td>Harland Terrace</td>\n",
              "      <td>I</td>\n",
              "      <td>33.75399</td>\n",
              "      <td>-84.48138</td>\n",
              "    </tr>\n",
              "  </tbody>\n",
              "</table>\n",
              "<p>270688 rows × 10 columns</p>\n",
              "</div>"
            ],
            "text/plain": [
              "        Unnamed: 0                 crime       number  ...  npu       lat      long\n",
              "0                0   LARCENY-NON VEHICLE    103040029  ...    M  33.77101 -84.38895\n",
              "1                1            AUTO THEFT    103040061  ...    T  33.74057 -84.41680\n",
              "2                2  LARCENY-FROM VEHICLE    103040169  ...    X  33.71803 -84.40774\n",
              "3                3            AUTO THEFT    103040174  ...    Y  33.70731 -84.39674\n",
              "4                4   LARCENY-NON VEHICLE    103040301  ...    M  33.75947 -84.36626\n",
              "...            ...                   ...          ...  ...  ...       ...       ...\n",
              "270683      270683    BURGLARY-RESIDENCE     92442142  ...    W  33.73927 -84.34741\n",
              "270684      270684  LARCENY-FROM VEHICLE     92442164  ...    Y  33.70436 -84.40013\n",
              "270685      270685   LARCENY-NON VEHICLE     92448045  ...  NaN  33.64068 -84.44204\n",
              "270686      270686   LARCENY-NON VEHICLE     92440866  ...    O  33.75374 -84.32600\n",
              "270687      270687              HOMICIDE  92440372058  ...    I  33.75399 -84.48138\n",
              "\n",
              "[270688 rows x 10 columns]"
            ]
          },
          "metadata": {
            "tags": []
          },
          "execution_count": 5
        }
      ]
    },
    {
      "cell_type": "code",
      "metadata": {
        "colab": {
          "base_uri": "https://localhost:8080/"
        },
        "id": "l9WvNe5Qv76q",
        "outputId": "6b655cf0-0be2-4769-9ef5-ad7438068513"
      },
      "source": [
        "#4. Print the entire data frame\n",
        "print(df)"
      ],
      "execution_count": null,
      "outputs": [
        {
          "output_type": "stream",
          "text": [
            "        Unnamed: 0                 crime       number  ...  npu       lat      long\n",
            "0                0   LARCENY-NON VEHICLE    103040029  ...    M  33.77101 -84.38895\n",
            "1                1            AUTO THEFT    103040061  ...    T  33.74057 -84.41680\n",
            "2                2  LARCENY-FROM VEHICLE    103040169  ...    X  33.71803 -84.40774\n",
            "3                3            AUTO THEFT    103040174  ...    Y  33.70731 -84.39674\n",
            "4                4   LARCENY-NON VEHICLE    103040301  ...    M  33.75947 -84.36626\n",
            "...            ...                   ...          ...  ...  ...       ...       ...\n",
            "270683      270683    BURGLARY-RESIDENCE     92442142  ...    W  33.73927 -84.34741\n",
            "270684      270684  LARCENY-FROM VEHICLE     92442164  ...    Y  33.70436 -84.40013\n",
            "270685      270685   LARCENY-NON VEHICLE     92448045  ...  NaN  33.64068 -84.44204\n",
            "270686      270686   LARCENY-NON VEHICLE     92440866  ...    O  33.75374 -84.32600\n",
            "270687      270687              HOMICIDE  92440372058  ...    I  33.75399 -84.48138\n",
            "\n",
            "[270688 rows x 10 columns]\n"
          ],
          "name": "stdout"
        }
      ]
    },
    {
      "cell_type": "code",
      "metadata": {
        "colab": {
          "base_uri": "https://localhost:8080/"
        },
        "id": "N-Jz1mfVv7-A",
        "outputId": "f05c1c1f-c5c0-4536-8621-ea481380f453"
      },
      "source": [
        "#5. Count the number of rows in data set\n",
        "len(df)"
      ],
      "execution_count": null,
      "outputs": [
        {
          "output_type": "execute_result",
          "data": {
            "text/plain": [
              "270688"
            ]
          },
          "metadata": {
            "tags": []
          },
          "execution_count": 7
        }
      ]
    },
    {
      "cell_type": "code",
      "metadata": {
        "colab": {
          "base_uri": "https://localhost:8080/",
          "height": 206
        },
        "id": "eZvynIUIv8BN",
        "outputId": "f39be8ce-94ec-4381-8298-75206ef96268"
      },
      "source": [
        "#6. Print starting five rows\n",
        "df.head(5)"
      ],
      "execution_count": null,
      "outputs": [
        {
          "output_type": "execute_result",
          "data": {
            "text/html": [
              "<div>\n",
              "<style scoped>\n",
              "    .dataframe tbody tr th:only-of-type {\n",
              "        vertical-align: middle;\n",
              "    }\n",
              "\n",
              "    .dataframe tbody tr th {\n",
              "        vertical-align: top;\n",
              "    }\n",
              "\n",
              "    .dataframe thead th {\n",
              "        text-align: right;\n",
              "    }\n",
              "</style>\n",
              "<table border=\"1\" class=\"dataframe\">\n",
              "  <thead>\n",
              "    <tr style=\"text-align: right;\">\n",
              "      <th></th>\n",
              "      <th>Unnamed: 0</th>\n",
              "      <th>crime</th>\n",
              "      <th>number</th>\n",
              "      <th>date</th>\n",
              "      <th>location</th>\n",
              "      <th>beat</th>\n",
              "      <th>neighborhood</th>\n",
              "      <th>npu</th>\n",
              "      <th>lat</th>\n",
              "      <th>long</th>\n",
              "    </tr>\n",
              "  </thead>\n",
              "  <tbody>\n",
              "    <tr>\n",
              "      <th>0</th>\n",
              "      <td>0</td>\n",
              "      <td>LARCENY-NON VEHICLE</td>\n",
              "      <td>103040029</td>\n",
              "      <td>10/31/2010</td>\n",
              "      <td>610 SPRING ST NW</td>\n",
              "      <td>509</td>\n",
              "      <td>Downtown</td>\n",
              "      <td>M</td>\n",
              "      <td>33.77101</td>\n",
              "      <td>-84.38895</td>\n",
              "    </tr>\n",
              "    <tr>\n",
              "      <th>1</th>\n",
              "      <td>1</td>\n",
              "      <td>AUTO THEFT</td>\n",
              "      <td>103040061</td>\n",
              "      <td>10/31/2010</td>\n",
              "      <td>850 OAK ST SW</td>\n",
              "      <td>401</td>\n",
              "      <td>West End</td>\n",
              "      <td>T</td>\n",
              "      <td>33.74057</td>\n",
              "      <td>-84.41680</td>\n",
              "    </tr>\n",
              "    <tr>\n",
              "      <th>2</th>\n",
              "      <td>2</td>\n",
              "      <td>LARCENY-FROM VEHICLE</td>\n",
              "      <td>103040169</td>\n",
              "      <td>10/31/2010</td>\n",
              "      <td>1344 METROPOLITAN PKWY SW</td>\n",
              "      <td>301</td>\n",
              "      <td>Capitol View Manor</td>\n",
              "      <td>X</td>\n",
              "      <td>33.71803</td>\n",
              "      <td>-84.40774</td>\n",
              "    </tr>\n",
              "    <tr>\n",
              "      <th>3</th>\n",
              "      <td>3</td>\n",
              "      <td>AUTO THEFT</td>\n",
              "      <td>103040174</td>\n",
              "      <td>10/31/2010</td>\n",
              "      <td>1752 PRYOR RD SW</td>\n",
              "      <td>307</td>\n",
              "      <td>Betmar LaVilla</td>\n",
              "      <td>Y</td>\n",
              "      <td>33.70731</td>\n",
              "      <td>-84.39674</td>\n",
              "    </tr>\n",
              "    <tr>\n",
              "      <th>4</th>\n",
              "      <td>4</td>\n",
              "      <td>LARCENY-NON VEHICLE</td>\n",
              "      <td>103040301</td>\n",
              "      <td>10/31/2010</td>\n",
              "      <td>JOHN WESLEY DOBBS AVE NE / CORLEY ST NE</td>\n",
              "      <td>604</td>\n",
              "      <td>Old Fourth Ward</td>\n",
              "      <td>M</td>\n",
              "      <td>33.75947</td>\n",
              "      <td>-84.36626</td>\n",
              "    </tr>\n",
              "  </tbody>\n",
              "</table>\n",
              "</div>"
            ],
            "text/plain": [
              "   Unnamed: 0                 crime     number  ... npu       lat      long\n",
              "0           0   LARCENY-NON VEHICLE  103040029  ...   M  33.77101 -84.38895\n",
              "1           1            AUTO THEFT  103040061  ...   T  33.74057 -84.41680\n",
              "2           2  LARCENY-FROM VEHICLE  103040169  ...   X  33.71803 -84.40774\n",
              "3           3            AUTO THEFT  103040174  ...   Y  33.70731 -84.39674\n",
              "4           4   LARCENY-NON VEHICLE  103040301  ...   M  33.75947 -84.36626\n",
              "\n",
              "[5 rows x 10 columns]"
            ]
          },
          "metadata": {
            "tags": []
          },
          "execution_count": 8
        }
      ]
    },
    {
      "cell_type": "code",
      "metadata": {
        "colab": {
          "base_uri": "https://localhost:8080/",
          "height": 363
        },
        "id": "3hXfPUAsv8Ey",
        "outputId": "26957674-0ac0-4bd4-f88d-cb18d630f5e0"
      },
      "source": [
        "#7. Print last 10 rows\n",
        "df.tail(10)"
      ],
      "execution_count": null,
      "outputs": [
        {
          "output_type": "execute_result",
          "data": {
            "text/html": [
              "<div>\n",
              "<style scoped>\n",
              "    .dataframe tbody tr th:only-of-type {\n",
              "        vertical-align: middle;\n",
              "    }\n",
              "\n",
              "    .dataframe tbody tr th {\n",
              "        vertical-align: top;\n",
              "    }\n",
              "\n",
              "    .dataframe thead th {\n",
              "        text-align: right;\n",
              "    }\n",
              "</style>\n",
              "<table border=\"1\" class=\"dataframe\">\n",
              "  <thead>\n",
              "    <tr style=\"text-align: right;\">\n",
              "      <th></th>\n",
              "      <th>Unnamed: 0</th>\n",
              "      <th>crime</th>\n",
              "      <th>number</th>\n",
              "      <th>date</th>\n",
              "      <th>location</th>\n",
              "      <th>beat</th>\n",
              "      <th>neighborhood</th>\n",
              "      <th>npu</th>\n",
              "      <th>lat</th>\n",
              "      <th>long</th>\n",
              "    </tr>\n",
              "  </thead>\n",
              "  <tbody>\n",
              "    <tr>\n",
              "      <th>270678</th>\n",
              "      <td>270678</td>\n",
              "      <td>LARCENY-FROM VEHICLE</td>\n",
              "      <td>92441196</td>\n",
              "      <td>09/01/2009</td>\n",
              "      <td>654 LARKIN STREET</td>\n",
              "      <td>101</td>\n",
              "      <td>Atlanta University Center</td>\n",
              "      <td>T</td>\n",
              "      <td>33.74805</td>\n",
              "      <td>-84.40905</td>\n",
              "    </tr>\n",
              "    <tr>\n",
              "      <th>270679</th>\n",
              "      <td>270679</td>\n",
              "      <td>LARCENY-NON VEHICLE</td>\n",
              "      <td>92441218</td>\n",
              "      <td>09/01/2009</td>\n",
              "      <td>449 OLIVER ST NW</td>\n",
              "      <td>103</td>\n",
              "      <td>English Avenue</td>\n",
              "      <td>L</td>\n",
              "      <td>33.76700</td>\n",
              "      <td>-84.41532</td>\n",
              "    </tr>\n",
              "    <tr>\n",
              "      <th>270680</th>\n",
              "      <td>270680</td>\n",
              "      <td>LARCENY-NON VEHICLE</td>\n",
              "      <td>92441230</td>\n",
              "      <td>09/01/2009</td>\n",
              "      <td>630 WAYNES CT SE</td>\n",
              "      <td>313</td>\n",
              "      <td>South River Gardens</td>\n",
              "      <td>Z</td>\n",
              "      <td>33.67202</td>\n",
              "      <td>-84.36817</td>\n",
              "    </tr>\n",
              "    <tr>\n",
              "      <th>270681</th>\n",
              "      <td>270681</td>\n",
              "      <td>LARCENY-FROM VEHICLE</td>\n",
              "      <td>92442058</td>\n",
              "      <td>09/01/2009</td>\n",
              "      <td>1071 LOS ANGELES AVE NE</td>\n",
              "      <td>601</td>\n",
              "      <td>Virginia Highland</td>\n",
              "      <td>F</td>\n",
              "      <td>33.78328</td>\n",
              "      <td>-84.35274</td>\n",
              "    </tr>\n",
              "    <tr>\n",
              "      <th>270682</th>\n",
              "      <td>270682</td>\n",
              "      <td>LARCENY-FROM VEHICLE</td>\n",
              "      <td>92442091</td>\n",
              "      <td>09/01/2009</td>\n",
              "      <td>W PEACHTREE ST NE / 17TH ST NE</td>\n",
              "      <td>502</td>\n",
              "      <td>Midtown</td>\n",
              "      <td>E</td>\n",
              "      <td>33.79184</td>\n",
              "      <td>-84.38777</td>\n",
              "    </tr>\n",
              "    <tr>\n",
              "      <th>270683</th>\n",
              "      <td>270683</td>\n",
              "      <td>BURGLARY-RESIDENCE</td>\n",
              "      <td>92442142</td>\n",
              "      <td>09/01/2009</td>\n",
              "      <td>1226 PORTLAND AVE SE</td>\n",
              "      <td>612</td>\n",
              "      <td>East Atlanta</td>\n",
              "      <td>W</td>\n",
              "      <td>33.73927</td>\n",
              "      <td>-84.34741</td>\n",
              "    </tr>\n",
              "    <tr>\n",
              "      <th>270684</th>\n",
              "      <td>270684</td>\n",
              "      <td>LARCENY-FROM VEHICLE</td>\n",
              "      <td>92442164</td>\n",
              "      <td>09/01/2009</td>\n",
              "      <td>317 PICKFAIR WAY SW</td>\n",
              "      <td>307</td>\n",
              "      <td>Lakewood Heights</td>\n",
              "      <td>Y</td>\n",
              "      <td>33.70436</td>\n",
              "      <td>-84.40013</td>\n",
              "    </tr>\n",
              "    <tr>\n",
              "      <th>270685</th>\n",
              "      <td>270685</td>\n",
              "      <td>LARCENY-NON VEHICLE</td>\n",
              "      <td>92448045</td>\n",
              "      <td>09/01/2009</td>\n",
              "      <td>6234 SPINE RD @ATRIUM</td>\n",
              "      <td>50</td>\n",
              "      <td>NaN</td>\n",
              "      <td>NaN</td>\n",
              "      <td>33.64068</td>\n",
              "      <td>-84.44204</td>\n",
              "    </tr>\n",
              "    <tr>\n",
              "      <th>270686</th>\n",
              "      <td>270686</td>\n",
              "      <td>LARCENY-NON VEHICLE</td>\n",
              "      <td>92440866</td>\n",
              "      <td>09/01/2009</td>\n",
              "      <td>30 WARREN ST</td>\n",
              "      <td>610</td>\n",
              "      <td>Kirkwood</td>\n",
              "      <td>O</td>\n",
              "      <td>33.75374</td>\n",
              "      <td>-84.32600</td>\n",
              "    </tr>\n",
              "    <tr>\n",
              "      <th>270687</th>\n",
              "      <td>270687</td>\n",
              "      <td>HOMICIDE</td>\n",
              "      <td>92440372058</td>\n",
              "      <td>09/01/2009</td>\n",
              "      <td>2860 MARTIN L KING JR DR SW</td>\n",
              "      <td>405</td>\n",
              "      <td>Harland Terrace</td>\n",
              "      <td>I</td>\n",
              "      <td>33.75399</td>\n",
              "      <td>-84.48138</td>\n",
              "    </tr>\n",
              "  </tbody>\n",
              "</table>\n",
              "</div>"
            ],
            "text/plain": [
              "        Unnamed: 0                 crime       number  ...  npu       lat      long\n",
              "270678      270678  LARCENY-FROM VEHICLE     92441196  ...    T  33.74805 -84.40905\n",
              "270679      270679   LARCENY-NON VEHICLE     92441218  ...    L  33.76700 -84.41532\n",
              "270680      270680   LARCENY-NON VEHICLE     92441230  ...    Z  33.67202 -84.36817\n",
              "270681      270681  LARCENY-FROM VEHICLE     92442058  ...    F  33.78328 -84.35274\n",
              "270682      270682  LARCENY-FROM VEHICLE     92442091  ...    E  33.79184 -84.38777\n",
              "270683      270683    BURGLARY-RESIDENCE     92442142  ...    W  33.73927 -84.34741\n",
              "270684      270684  LARCENY-FROM VEHICLE     92442164  ...    Y  33.70436 -84.40013\n",
              "270685      270685   LARCENY-NON VEHICLE     92448045  ...  NaN  33.64068 -84.44204\n",
              "270686      270686   LARCENY-NON VEHICLE     92440866  ...    O  33.75374 -84.32600\n",
              "270687      270687              HOMICIDE  92440372058  ...    I  33.75399 -84.48138\n",
              "\n",
              "[10 rows x 10 columns]"
            ]
          },
          "metadata": {
            "tags": []
          },
          "execution_count": 9
        }
      ]
    },
    {
      "cell_type": "code",
      "metadata": {
        "colab": {
          "base_uri": "https://localhost:8080/"
        },
        "id": "yIrnZubEv8PP",
        "outputId": "4053c448-4170-40c8-8bb3-2eeaa3227bec"
      },
      "source": [
        "#Find the Average, Minimum, and Maximum of the following\n",
        "#a. Latitude\n",
        "print(df['lat'].mean())\n",
        "print(df['lat'].min())\n",
        "print(df['lat'].max())"
      ],
      "execution_count": null,
      "outputs": [
        {
          "output_type": "stream",
          "text": [
            "33.755245995872244\n",
            "33.4601\n",
            "33.88613\n"
          ],
          "name": "stdout"
        }
      ]
    },
    {
      "cell_type": "code",
      "metadata": {
        "colab": {
          "base_uri": "https://localhost:8080/"
        },
        "id": "o7cWHpzcv8Va",
        "outputId": "79f374f2-9248-423b-8468-be863b72a9c0"
      },
      "source": [
        "#Find the Average, Minimum, and Maximum of the following\n",
        "#b. Longitude\n",
        "print(df['long'].mean())\n",
        "print(df['long'].min())\n",
        "print(df['long'].max())\n",
        "\n"
      ],
      "execution_count": null,
      "outputs": [
        {
          "output_type": "stream",
          "text": [
            "-84.40817772978441\n",
            "-84.5505\n",
            "-84.28641\n"
          ],
          "name": "stdout"
        }
      ]
    },
    {
      "cell_type": "code",
      "metadata": {
        "colab": {
          "base_uri": "https://localhost:8080/",
          "height": 265
        },
        "id": "4AwwOXlAzROe",
        "outputId": "8a530f81-39df-4148-f096-d9e736470617"
      },
      "source": [
        "#9. Draw the scatter plot between Latitude and Longitude\n",
        "import matplotlib.pyplot as plt\n",
        "x = df['lat']\n",
        "y = df['long']\n",
        "plt.scatter(x,y,c=\"blue\")\n",
        "plt.show()\n"
      ],
      "execution_count": null,
      "outputs": [
        {
          "output_type": "display_data",
          "data": {
            "image/png": "[encoded data removed]",
            "text/plain": [
              "<Figure size 432x288 with 1 Axes>"
            ]
          },
          "metadata": {
            "tags": [],
            "needs_background": "light"
          }
        }
      ]
    },
    {
      "cell_type": "code",
      "metadata": {
        "colab": {
          "base_uri": "https://localhost:8080/",
          "height": 513
        },
        "id": "PjVA2qYYzuTO",
        "outputId": "b4d2e2f2-845a-4a54-e232-9e1c80349667"
      },
      "source": [
        "#10. Draw the Histogram of Latitude using 20 bins and 10 Bins\n",
        "plt.hist(x,edgecolor=\"red\", bins=20)\n",
        "plt.show()\n",
        "plt.hist(x,edgecolor=\"red\", bins=10)\n",
        "plt.show()"
      ],
      "execution_count": null,
      "outputs": [
        {
          "output_type": "display_data",
          "data": {
            "image/png": "[encoded data removed]",
            "text/plain": [
              "<Figure size 432x288 with 1 Axes>"
            ]
          },
          "metadata": {
            "tags": [],
            "needs_background": "light"
          }
        },
        {
          "output_type": "display_data",
          "data": {
            "image/png": "[encoded data removed]",
            "text/plain": [
              "<Figure size 432x288 with 1 Axes>"
            ]
          },
          "metadata": {
            "tags": [],
            "needs_background": "light"
          }
        }
      ]
    },
    {
      "cell_type": "code",
      "metadata": {
        "colab": {
          "base_uri": "https://localhost:8080/",
          "height": 513
        },
        "id": "pgZGWNeS0oPp",
        "outputId": "9ce7814b-a99e-4e19-a0b2-6187867f07ef"
      },
      "source": [
        "#11. Draw the Histogram of Longitude using 20 bins and 10 Bins\n",
        "plt.hist(y,edgecolor=\"red\", bins=20)\n",
        "plt.show()\n",
        "plt.hist(y,edgecolor=\"red\", bins=10)\n",
        "plt.show()"
      ],
      "execution_count": null,
      "outputs": [
        {
          "output_type": "display_data",
          "data": {
            "image/png": "[encoded data removed]",
            "text/plain": [
              "<Figure size 432x288 with 1 Axes>"
            ]
          },
          "metadata": {
            "tags": [],
            "needs_background": "light"
          }
        },
        {
          "output_type": "display_data",
          "data": {
            "image/png": "[encoded data removed]",
            "text/plain": [
              "<Figure size 432x288 with 1 Axes>"
            ]
          },
          "metadata": {
            "tags": [],
            "needs_background": "light"
          }
        }
      ]
    },
    {
      "cell_type": "code",
      "metadata": {
        "colab": {
          "base_uri": "https://localhost:8080/"
        },
        "id": "YI9DPyi-06uC",
        "outputId": "5ee9f02a-019c-4488-be18-9ab476728a97"
      },
      "source": [
        "#12. Find out whether following crime exists in database or not\n",
        "#a. AUTO THEFT\n",
        "#b. PHISHING\n",
        "#c. AGG ASSAULT\n",
        "#d. MALWARE ATTACK\n",
        "#e. LARCENY-FROM VEHICLE\n",
        "#f. IDENTITY THEFT\n",
        "#g. TIME BOMB ATTACK\n",
        "\n",
        "\n",
        "#a. AUTO THEFT\n",
        "if 'AUTO THEFT' in df.values :\n",
        "    print(\"yes\")\n",
        "else :\n",
        "    print(\"NO\")"
      ],
      "execution_count": null,
      "outputs": [
        {
          "output_type": "stream",
          "text": [
            "yes\n"
          ],
          "name": "stdout"
        }
      ]
    },
    {
      "cell_type": "code",
      "metadata": {
        "colab": {
          "base_uri": "https://localhost:8080/"
        },
        "id": "R8p0-val1Gh_",
        "outputId": "ebf260d6-3b8a-4ac8-9ecc-fc911453f16c"
      },
      "source": [
        "#b. PHISHING\n",
        "if 'PHISHING' in df.values :\n",
        "    print(\"yes\")\n",
        "else :\n",
        "    print(\"NO\")"
      ],
      "execution_count": null,
      "outputs": [
        {
          "output_type": "stream",
          "text": [
            "NO\n"
          ],
          "name": "stdout"
        }
      ]
    },
    {
      "cell_type": "code",
      "metadata": {
        "colab": {
          "base_uri": "https://localhost:8080/"
        },
        "id": "8VYUjiXj3hzC",
        "outputId": "45ee74c5-b9d7-43e3-9555-b6cef7f4c9ad"
      },
      "source": [
        "#c. AGG ASSAULT\n",
        "if 'AGG ASSAULT' in df.values :\n",
        "    print(\"yes\")\n",
        "else :\n",
        "    print(\"NO\")"
      ],
      "execution_count": null,
      "outputs": [
        {
          "output_type": "stream",
          "text": [
            "yes\n"
          ],
          "name": "stdout"
        }
      ]
    },
    {
      "cell_type": "code",
      "metadata": {
        "colab": {
          "base_uri": "https://localhost:8080/"
        },
        "id": "595AdLYO3l7O",
        "outputId": "3e2f1746-eed1-489d-8093-043c9b32d201"
      },
      "source": [
        "#d. MALWARE ATTACK\n",
        "if 'MALWARE ATTACK' in df.values :\n",
        "    print(\"yes\")\n",
        "else :\n",
        "    print(\"NO\")"
      ],
      "execution_count": null,
      "outputs": [
        {
          "output_type": "stream",
          "text": [
            "NO\n"
          ],
          "name": "stdout"
        }
      ]
    },
    {
      "cell_type": "code",
      "metadata": {
        "colab": {
          "base_uri": "https://localhost:8080/"
        },
        "id": "SUos9sFk3mlV",
        "outputId": "bd39d213-4269-4d65-8408-59988b22dfd9"
      },
      "source": [
        "#e. LARCENY-FROM VEHICLE\n",
        "if 'LARCENY-FROM VEHICLE' in df.values :\n",
        "    print(\"yes\")\n",
        "else :\n",
        "    print(\"NO\")"
      ],
      "execution_count": null,
      "outputs": [
        {
          "output_type": "stream",
          "text": [
            "yes\n"
          ],
          "name": "stdout"
        }
      ]
    },
    {
      "cell_type": "code",
      "metadata": {
        "colab": {
          "base_uri": "https://localhost:8080/"
        },
        "id": "KeOMdXN93oKu",
        "outputId": "96fa86ff-7dc6-4c70-bfee-ef4725f403d4"
      },
      "source": [
        "#f. IDENTITY THEFT\n",
        "if 'IDENTITY THEFT' in df.values :\n",
        "    print(\"yes\")\n",
        "else :\n",
        "    print(\"NO\")"
      ],
      "execution_count": null,
      "outputs": [
        {
          "output_type": "stream",
          "text": [
            "NO\n"
          ],
          "name": "stdout"
        }
      ]
    },
    {
      "cell_type": "code",
      "metadata": {
        "colab": {
          "base_uri": "https://localhost:8080/"
        },
        "id": "OqniRT6g3wTj",
        "outputId": "1f566d20-db63-4689-9afe-29834cd06e78"
      },
      "source": [
        "#g. TIME BOMB ATTACK\n",
        "if 'TIME BOMB ATTACK' in df.values :\n",
        "    print(\"yes\")\n",
        "else :\n",
        "    print(\"NO\")"
      ],
      "execution_count": null,
      "outputs": [
        {
          "output_type": "stream",
          "text": [
            "NO\n"
          ],
          "name": "stdout"
        }
      ]
    },
    {
      "cell_type": "code",
      "metadata": {
        "id": "mV8HyF-h4T-V"
      },
      "source": [
        ""
      ],
      "execution_count": null,
      "outputs": []
    }
  ]
}